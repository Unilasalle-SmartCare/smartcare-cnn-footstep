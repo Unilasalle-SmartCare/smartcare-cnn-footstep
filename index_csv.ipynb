{
 "cells": [
  {
   "cell_type": "code",
   "execution_count": 15,
   "id": "ca013c29",
   "metadata": {},
   "outputs": [],
   "source": [
    "import pandas as pd\n",
    "import numpy as np \n",
    "from model_utils import * \n",
    "import os\n",
    "from inc_file_names import *"
   ]
  },
  {
   "cell_type": "code",
   "execution_count": 7,
   "id": "68cbb8d7",
   "metadata": {},
   "outputs": [],
   "source": [
    "project_dir = \"D:/Sistemas de Informação/TCC/\"\n",
    "#project_dir = os.path.dirname(os.path.abspath(__file__))\n",
    "data_dir = project_dir+'data/'\n",
    "audioset_indices_csv = project_dir+'segments/subset_class_labels_indices.csv'"
   ]
  },
  {
   "cell_type": "code",
   "execution_count": 3,
   "id": "5a0d357a",
   "metadata": {},
   "outputs": [
    {
     "data": {
      "text/html": [
       "<div>\n",
       "<style scoped>\n",
       "    .dataframe tbody tr th:only-of-type {\n",
       "        vertical-align: middle;\n",
       "    }\n",
       "\n",
       "    .dataframe tbody tr th {\n",
       "        vertical-align: top;\n",
       "    }\n",
       "\n",
       "    .dataframe thead th {\n",
       "        text-align: right;\n",
       "    }\n",
       "</style>\n",
       "<table border=\"1\" class=\"dataframe\">\n",
       "  <thead>\n",
       "    <tr style=\"text-align: right;\">\n",
       "      <th></th>\n",
       "      <th>index;mid;display_name</th>\n",
       "    </tr>\n",
       "  </thead>\n",
       "  <tbody>\n",
       "    <tr>\n",
       "      <th>0</th>\n",
       "      <td>0;/m/07pbtc8;Walking Footsteps</td>\n",
       "    </tr>\n",
       "  </tbody>\n",
       "</table>\n",
       "</div>"
      ],
      "text/plain": [
       "           index;mid;display_name\n",
       "0  0;/m/07pbtc8;Walking Footsteps"
      ]
     },
     "execution_count": 3,
     "metadata": {},
     "output_type": "execute_result"
    }
   ],
   "source": [
    "indices = pd.read_csv(audioset_indices_csv, sep='\\t')\n",
    "indices"
   ]
  },
  {
   "cell_type": "code",
   "execution_count": 4,
   "id": "8cb2a836",
   "metadata": {},
   "outputs": [],
   "source": [
    "audioset_footsteps_csv = project_dir+'segments/subset_unbalanced_train_segments.csv'\n",
    "audioset_other_csv = project_dir+ 'segments/1600max_subset_unbalanced_train_segments.csv'"
   ]
  },
  {
   "cell_type": "code",
   "execution_count": 6,
   "id": "7b936c2b",
   "metadata": {},
   "outputs": [],
   "source": [
    "footsteps_df = pd.read_csv(audioset_footsteps_csv, sep='\\t', header=None)\n",
    "other_df = pd.read_csv(audioset_other_csv, sep='\\t',header=None)"
   ]
  },
  {
   "cell_type": "code",
   "execution_count": 9,
   "id": "00cb6ee8",
   "metadata": {},
   "outputs": [],
   "source": [
    "train_df = footsteps_df.append(other_df[3:])"
   ]
  },
  {
   "cell_type": "code",
   "execution_count": 11,
   "id": "bdfbe222",
   "metadata": {},
   "outputs": [
    {
     "data": {
      "text/html": [
       "<div>\n",
       "<style scoped>\n",
       "    .dataframe tbody tr th:only-of-type {\n",
       "        vertical-align: middle;\n",
       "    }\n",
       "\n",
       "    .dataframe tbody tr th {\n",
       "        vertical-align: top;\n",
       "    }\n",
       "\n",
       "    .dataframe thead th {\n",
       "        text-align: right;\n",
       "    }\n",
       "</style>\n",
       "<table border=\"1\" class=\"dataframe\">\n",
       "  <thead>\n",
       "    <tr style=\"text-align: right;\">\n",
       "      <th></th>\n",
       "      <th>0</th>\n",
       "    </tr>\n",
       "  </thead>\n",
       "  <tbody>\n",
       "    <tr>\n",
       "      <th>0</th>\n",
       "      <td># Segments csv adapted from original eval_segm...</td>\n",
       "    </tr>\n",
       "    <tr>\n",
       "      <th>1</th>\n",
       "      <td># num_ytids=Dunno, num_segs=Dunno, num_unique_...</td>\n",
       "    </tr>\n",
       "    <tr>\n",
       "      <th>2</th>\n",
       "      <td># YTID, start_seconds, end_seconds, positive_l...</td>\n",
       "    </tr>\n",
       "    <tr>\n",
       "      <th>3</th>\n",
       "      <td>--diQGtdz9Q, 30.000, 40.000, \"/m/07pbtc8,/m/09...</td>\n",
       "    </tr>\n",
       "    <tr>\n",
       "      <th>4</th>\n",
       "      <td>-2ni2KI5S5A, 0.000, 9.000, \"/m/04rlf,/m/07pbtc...</td>\n",
       "    </tr>\n",
       "    <tr>\n",
       "      <th>...</th>\n",
       "      <td>...</td>\n",
       "    </tr>\n",
       "    <tr>\n",
       "      <th>1398</th>\n",
       "      <td>K1mN4X98Hkc,110.000,120.000,\"\"\"/m/03qc9zr,/m/0...</td>\n",
       "    </tr>\n",
       "    <tr>\n",
       "      <th>1399</th>\n",
       "      <td>mKf-qrudeIE,30.000,40.000,\"\"\"/m/06h7j,/m/09x0r...</td>\n",
       "    </tr>\n",
       "    <tr>\n",
       "      <th>1400</th>\n",
       "      <td>-_3_gYXwmw0,30.000,40.000,\"\"\"/m/06h7j,/m/09x0r...</td>\n",
       "    </tr>\n",
       "    <tr>\n",
       "      <th>1401</th>\n",
       "      <td>HDMdYNZ0FsI,10.000,20.000,\"\"\"/m/01d3sd\"\"\"</td>\n",
       "    </tr>\n",
       "    <tr>\n",
       "      <th>1402</th>\n",
       "      <td>1E_jzLpWNKM,110.000,120.000,\"\"\"/m/01d3sd\"\"\"</td>\n",
       "    </tr>\n",
       "  </tbody>\n",
       "</table>\n",
       "<p>2966 rows × 1 columns</p>\n",
       "</div>"
      ],
      "text/plain": [
       "                                                      0\n",
       "0     # Segments csv adapted from original eval_segm...\n",
       "1     # num_ytids=Dunno, num_segs=Dunno, num_unique_...\n",
       "2     # YTID, start_seconds, end_seconds, positive_l...\n",
       "3     --diQGtdz9Q, 30.000, 40.000, \"/m/07pbtc8,/m/09...\n",
       "4     -2ni2KI5S5A, 0.000, 9.000, \"/m/04rlf,/m/07pbtc...\n",
       "...                                                 ...\n",
       "1398  K1mN4X98Hkc,110.000,120.000,\"\"\"/m/03qc9zr,/m/0...\n",
       "1399  mKf-qrudeIE,30.000,40.000,\"\"\"/m/06h7j,/m/09x0r...\n",
       "1400  -_3_gYXwmw0,30.000,40.000,\"\"\"/m/06h7j,/m/09x0r...\n",
       "1401          HDMdYNZ0FsI,10.000,20.000,\"\"\"/m/01d3sd\"\"\"\n",
       "1402        1E_jzLpWNKM,110.000,120.000,\"\"\"/m/01d3sd\"\"\"\n",
       "\n",
       "[2966 rows x 1 columns]"
      ]
     },
     "execution_count": 11,
     "metadata": {},
     "output_type": "execute_result"
    }
   ],
   "source": [
    "train_df.to_csv(r'D:\\Sistemas de Informação\\TCC\\segments\\2400_subset_unbalanced_train_segments.csv', index = False, header=None)\n",
    "train_df"
   ]
  }
 ],
 "metadata": {
  "kernelspec": {
   "display_name": "Python 3 (Spyder)",
   "language": "python3",
   "name": "python3"
  },
  "language_info": {
   "codemirror_mode": {
    "name": "ipython",
    "version": 3
   },
   "file_extension": ".py",
   "mimetype": "text/x-python",
   "name": "python",
   "nbconvert_exporter": "python",
   "pygments_lexer": "ipython3",
   "version": "3.8.8"
  }
 },
 "nbformat": 4,
 "nbformat_minor": 5
}
