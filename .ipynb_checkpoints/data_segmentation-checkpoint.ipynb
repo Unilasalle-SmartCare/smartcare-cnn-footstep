{
 "cells": [
  {
   "cell_type": "code",
   "execution_count": 1,
   "id": "cd89fb57",
   "metadata": {},
   "outputs": [],
   "source": [
    "import pandas as pd\n",
    "import numpy as np "
   ]
  },
  {
   "cell_type": "code",
   "execution_count": 6,
   "id": "0b204a67",
   "metadata": {},
   "outputs": [
    {
     "ename": "OSError",
     "evalue": "[Errno 22] Invalid argument: 'D:\\\\Sistemas de Informação\\\\TCC\\\\data\\x08alanced_train_segments.csv'",
     "output_type": "error",
     "traceback": [
      "Traceback \u001b[1;36m(most recent call last)\u001b[0m:\n",
      "  File \u001b[0;32m\"<ipython-input-6-bd2192e027b1>\"\u001b[0m, line \u001b[0;32m2\u001b[0m, in \u001b[0;35m<module>\u001b[0m\n    balanced_train_seg_df = pd.read_csv(\"D:\\Sistemas de Informação\\TCC\\data\\balanced_train_segments.csv\")\n",
      "  File \u001b[0;32m\"D:\\Anaconda\\lib\\site-packages\\pandas\\io\\parsers.py\"\u001b[0m, line \u001b[0;32m610\u001b[0m, in \u001b[0;35mread_csv\u001b[0m\n    return _read(filepath_or_buffer, kwds)\n",
      "  File \u001b[0;32m\"D:\\Anaconda\\lib\\site-packages\\pandas\\io\\parsers.py\"\u001b[0m, line \u001b[0;32m462\u001b[0m, in \u001b[0;35m_read\u001b[0m\n    parser = TextFileReader(filepath_or_buffer, **kwds)\n",
      "  File \u001b[0;32m\"D:\\Anaconda\\lib\\site-packages\\pandas\\io\\parsers.py\"\u001b[0m, line \u001b[0;32m819\u001b[0m, in \u001b[0;35m__init__\u001b[0m\n    self._engine = self._make_engine(self.engine)\n",
      "  File \u001b[0;32m\"D:\\Anaconda\\lib\\site-packages\\pandas\\io\\parsers.py\"\u001b[0m, line \u001b[0;32m1050\u001b[0m, in \u001b[0;35m_make_engine\u001b[0m\n    return mapping[engine](self.f, **self.options)  # type: ignore[call-arg]\n",
      "  File \u001b[0;32m\"D:\\Anaconda\\lib\\site-packages\\pandas\\io\\parsers.py\"\u001b[0m, line \u001b[0;32m1867\u001b[0m, in \u001b[0;35m__init__\u001b[0m\n    self._open_handles(src, kwds)\n",
      "  File \u001b[0;32m\"D:\\Anaconda\\lib\\site-packages\\pandas\\io\\parsers.py\"\u001b[0m, line \u001b[0;32m1362\u001b[0m, in \u001b[0;35m_open_handles\u001b[0m\n    self.handles = get_handle(\n",
      "\u001b[1;36m  File \u001b[1;32m\"D:\\Anaconda\\lib\\site-packages\\pandas\\io\\common.py\"\u001b[1;36m, line \u001b[1;32m642\u001b[1;36m, in \u001b[1;35mget_handle\u001b[1;36m\u001b[0m\n\u001b[1;33m    handle = open(\u001b[0m\n",
      "\u001b[1;31mOSError\u001b[0m\u001b[1;31m:\u001b[0m [Errno 22] Invalid argument: 'D:\\\\Sistemas de Informação\\\\TCC\\\\data\\x08alanced_train_segments.csv'\n"
     ]
    }
   ],
   "source": [
    "# Read in the train segments CSV\n",
    "balanced_train_seg_df = pd.read_csv(\"data\\balanced_train_segments.csv\")"
   ]
  },
  {
   "cell_type": "code",
   "execution_count": null,
   "id": "fadb9c11",
   "metadata": {},
   "outputs": [],
   "source": []
  }
 ],
 "metadata": {
  "kernelspec": {
   "display_name": "Python 3 (Spyder)",
   "language": "python3",
   "name": "python3"
  },
  "language_info": {
   "codemirror_mode": {
    "name": "ipython",
    "version": 3
   },
   "file_extension": ".py",
   "mimetype": "text/x-python",
   "name": "python",
   "nbconvert_exporter": "python",
   "pygments_lexer": "ipython3",
   "version": "3.8.8"
  }
 },
 "nbformat": 4,
 "nbformat_minor": 5
}
